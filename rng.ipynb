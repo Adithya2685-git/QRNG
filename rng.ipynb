{
 "cells": [
  {
   "cell_type": "code",
   "execution_count": null,
   "id": "43b20247",
   "metadata": {},
   "outputs": [],
   "source": [
    "from qiskit import QuantumCircuit,QuantumRegister,ClassicalRegister\n",
    "from qiskit_aer import aer_simulator\n",
    "from qiskit import visualization\n",
    "\n"
   ]
  },
  {
   "cell_type": "code",
   "execution_count": 3,
   "id": "b5ffb39e",
   "metadata": {},
   "outputs": [
    {
     "name": "stdout",
     "output_type": "stream",
     "text": [
      "ENTER VALUES Range [a,b] :\n",
      "\n",
      "30\n",
      "5\n"
     ]
    }
   ],
   "source": [
    "print(\"ENTER VALUES Range [a,b] :\\n\")\n",
    "\n",
    "a= int(input())\n",
    "\n",
    "b=int(input())\n",
    "\n",
    "range = b-a+1\n",
    "print(range)\n",
    "qubit_numbers=0\n",
    "while range>0:\n",
    "    qubit_numbers+=1\n",
    "    range//=2\n",
    "\n",
    "print(qubit_numbers)\n"
   ]
  },
  {
   "cell_type": "code",
   "execution_count": null,
   "id": "065e2f27",
   "metadata": {},
   "outputs": [
    {
     "ename": "TypeError",
     "evalue": "'module' object is not callable",
     "output_type": "error",
     "traceback": [
      "\u001b[1;31m---------------------------------------------------------------------------\u001b[0m",
      "\u001b[1;31mTypeError\u001b[0m                                 Traceback (most recent call last)",
      "Cell \u001b[1;32mIn[7], line 15\u001b[0m\n\u001b[0;32m     11\u001b[0m qc\u001b[38;5;241m.\u001b[39mdraw(\u001b[38;5;124m'\u001b[39m\u001b[38;5;124mmpl\u001b[39m\u001b[38;5;124m'\u001b[39m)\n\u001b[0;32m     14\u001b[0m \u001b[38;5;66;03m#execute\u001b[39;00m\n\u001b[1;32m---> 15\u001b[0m simulator \u001b[38;5;241m=\u001b[39m \u001b[43maer_simulator\u001b[49m\u001b[43m(\u001b[49m\u001b[43m)\u001b[49m\n\u001b[0;32m     16\u001b[0m job\u001b[38;5;241m=\u001b[39m simulator\u001b[38;5;241m.\u001b[39mrun(qc, shots\u001b[38;5;241m=\u001b[39m\u001b[38;5;241m1024\u001b[39m)\n\u001b[0;32m     17\u001b[0m result \u001b[38;5;241m=\u001b[39m job\u001b[38;5;241m.\u001b[39mresult()\n",
      "\u001b[1;31mTypeError\u001b[0m: 'module' object is not callable"
     ]
    }
   ],
   "source": [
    "qubitstring = QuantumRegister(qubit_numbers,name= 'q')\n",
    "Resultstring= ClassicalRegister(qubit_numbers)\n",
    "\n",
    "\n",
    "# Draw circuit\n",
    "qc = QuantumCircuit(qubitstring,Resultstring)\n",
    "\n",
    "qc.h(qubitstring)\n",
    "\n",
    "qc.measure(qubitstring, Resultstring)\n",
    "qc.draw('mpl')\n",
    "\n",
    "\n",
    "#execute\n",
    "simulator = aer_simulator()\n",
    "job= simulator.run(qc, shots=1024)\n",
    "result = job.result()\n",
    "count = result.getcounts()\n",
    "\n",
    "\n",
    "bitstrings = list(count.keys())\n",
    "firstvalid=None\n",
    "for bitstring in bitstrings:\n",
    "    val = int(bitstring, 2)\n",
    "    if val <= b-a:  # if target in range\n",
    "        firstvalid = val\n",
    "        firstvalid+=a\n",
    "        break\n",
    "\n",
    "print(firstvalid)\n"
   ]
  }
 ],
 "metadata": {
  "kernelspec": {
   "display_name": "cwq311",
   "language": "python",
   "name": "python3"
  },
  "language_info": {
   "codemirror_mode": {
    "name": "ipython",
    "version": 3
   },
   "file_extension": ".py",
   "mimetype": "text/x-python",
   "name": "python",
   "nbconvert_exporter": "python",
   "pygments_lexer": "ipython3",
   "version": "3.11.10"
  }
 },
 "nbformat": 4,
 "nbformat_minor": 5
}
